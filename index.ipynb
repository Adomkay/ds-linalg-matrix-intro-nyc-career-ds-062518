{
 "cells": [
  {
   "cell_type": "markdown",
   "metadata": {},
   "source": [
    "![](./images/Matrix.svg.png)"
   ]
  },
  {
   "cell_type": "markdown",
   "metadata": {},
   "source": [
    "### Numpy and Matrices\n",
    "The numpy package will provide you a great toolbox of optimized mathematical operations including the numpy array, the most convenient way to store vector and matrix data for computation. Here, we'll look at some basic operations in numpy."
   ]
  },
  {
   "cell_type": "code",
   "execution_count": 1,
   "metadata": {},
   "outputs": [],
   "source": [
    "import numpy as np"
   ]
  },
  {
   "cell_type": "code",
   "execution_count": 46,
   "metadata": {},
   "outputs": [
    {
     "name": "stdout",
     "output_type": "stream",
     "text": [
      "A: [[2 8 4 8]\n",
      " [6 6 9 5]\n",
      " [0 8 2 8]]\n",
      "\n",
      "\n",
      "B: [[0 6 7 8]\n",
      " [8 1 9 4]\n",
      " [5 2 4 4]]\n",
      "\n",
      "\n",
      "\n",
      "x: [-0.35800865 -0.4791102  -0.26180063  0.35003173]\n",
      "\n",
      "\n",
      "\n",
      "y: [-0.29653411 -0.66575779 -0.46246297  0.2078026   2.11497751]\n"
     ]
    }
   ],
   "source": [
    "A = np.array([np.random.randint(0,10) for i in range(12)]).reshape((3,4)) #Create a 3x4 matrix with random integers 0-9\n",
    "B = np.array([np.random.randint(0,10) for i in range(12)]).reshape((3,4)) #Create a 3x4 matrix with random integers 0-9\n",
    "\n",
    "x = np.random.randn(4) #An array of 4 samples from the standard normal distribution\n",
    "y = np.random.randn(5) #An array of 5 samples from the standard normal distribution\n",
    "\n",
    "print('A: {}'.format(A))\n",
    "print('\\n')\n",
    "print('B: {}'.format(B))\n",
    "\n",
    "print('\\n\\n')\n",
    "print('x: {}'.format(x))\n",
    "print('\\n\\n')\n",
    "print('y: {}'.format(y))"
   ]
  },
  {
   "cell_type": "code",
   "execution_count": 48,
   "metadata": {},
   "outputs": [
    {
     "name": "stdout",
     "output_type": "stream",
     "text": [
      "A+B:\n",
      " [[ 2 14 11 16]\n",
      " [14  7 18  9]\n",
      " [ 5 10  6 12]] \n",
      "\n",
      "\n",
      "A-B:\n",
      " [[ 2  2 -3  0]\n",
      " [-2  5  0  1]\n",
      " [-5  6 -2  4]] \n",
      "\n",
      "\n",
      "Be careful! This is not standarad matrix multiplication!\n",
      "A*B:\n",
      " [[ 0 48 28 64]\n",
      " [48  6 81 20]\n",
      " [ 0 16  8 32]] \n",
      "\n",
      "\n",
      "A/B:\n",
      " [[       inf 1.33333333 0.57142857 1.        ]\n",
      " [0.75       6.         1.         1.25      ]\n",
      " [0.         4.         0.5        2.        ]] \n",
      "\n",
      "\n",
      "A*x:\n",
      " [[-0.7160173  -3.83288164 -1.04720252  2.80025382]\n",
      " [-2.14805189 -2.87466123 -2.35620566  1.75015864]\n",
      " [-0.         -3.83288164 -0.52360126  2.80025382]] \n",
      "\n",
      "\n",
      "A.T:\n",
      " [[2 6 0]\n",
      " [8 6 8]\n",
      " [4 9 2]\n",
      " [8 5 8]] \n",
      "\n",
      "\n",
      "x.T:\n",
      " [-0.35800865 -0.4791102  -0.26180063  0.35003173] \n",
      "\n",
      "\n"
     ]
    },
    {
     "name": "stderr",
     "output_type": "stream",
     "text": [
      "/Users/matthew.mitchell/anaconda3/lib/python3.6/site-packages/ipykernel_launcher.py:5: RuntimeWarning: divide by zero encountered in true_divide\n",
      "  \"\"\"\n"
     ]
    }
   ],
   "source": [
    "print('A+B:\\n', A+B, '\\n\\n') # matrix addition\n",
    "print('A-B:\\n', A-B, '\\n\\n') # matrix subtraction\n",
    "print('Be careful! This is not standarad matrix multiplication!')\n",
    "print('A*B:\\n', A*B, '\\n\\n') # ELEMENTWISE multiplication\n",
    "print('A/B:\\n', A/B, '\\n\\n') # ELEMENTWISE division\n",
    "\n",
    "\n",
    "print('A*x:\\n', A*x, '\\n\\n') # multiply columns by x\n",
    "print('A.T:\\n', A.T, '\\n\\n') # transpose (just changes row/column ordering)\n",
    "print('x.T:\\n', x.T, '\\n\\n') # does nothing (can't transpose 1D array)"
   ]
  },
  {
   "cell_type": "markdown",
   "metadata": {},
   "source": [
    "### 1. Generating Test Data\n",
    "Generate two matrices of random data, A and B.  \n",
    "Make matrix A a 3x4 matrix, and make B 4x4 matrix. Print both.\n",
    "\n",
    "Calculate and print the following:\n",
    "* $A^T$\n",
    "* $B^T$\n",
    "* AB\n",
    "* $AB^T$\n",
    "* $BA^T$"
   ]
  },
  {
   "cell_type": "code",
   "execution_count": 3,
   "metadata": {},
   "outputs": [
    {
     "name": "stdout",
     "output_type": "stream",
     "text": [
      "A : [[2 7 3 7]\n",
      " [0 5 4 7]\n",
      " [4 0 5 8]]\n",
      "B : [[0 3 5 2]\n",
      " [3 0 4 5]\n",
      " [7 5 6 1]\n",
      " [6 2 9 2]]\n"
     ]
    }
   ],
   "source": [
    "A = np.array([np.random.randint(0,10) for i in range(12)]).reshape((3,4)) #Your code goes here\n",
    "B = np.array([np.random.randint(0,10) for i in range(16)]).reshape((4,4)) #Your code goes here\n",
    "print('A :', A)\n",
    "print('B :', B)"
   ]
  },
  {
   "cell_type": "code",
   "execution_count": 4,
   "metadata": {},
   "outputs": [
    {
     "name": "stdout",
     "output_type": "stream",
     "text": [
      "Transpose of B: [[0 3 7 6]\n",
      " [3 0 5 2]\n",
      " [5 4 6 9]\n",
      " [2 5 1 2]]\n"
     ]
    }
   ],
   "source": [
    "transpose_of_b = B.transpose() #Your answer goes here\n",
    "print('Transpose of B: {}'.format(transpose_of_b))"
   ]
  },
  {
   "cell_type": "code",
   "execution_count": 5,
   "metadata": {},
   "outputs": [
    {
     "name": "stdout",
     "output_type": "stream",
     "text": [
      "AB: [[ 84  35 119  56]\n",
      " [ 85  34 107  43]\n",
      " [ 83  53 122  29]]\n",
      "AB^T [[50 53 74 67]\n",
      " [49 51 56 60]\n",
      " [41 72 66 85]]\n",
      "BA^T [[50 49 41]\n",
      " [53 51 72]\n",
      " [74 56 66]\n",
      " [67 60 85]]\n"
     ]
    }
   ],
   "source": [
    "print('AB:', np.matmul(A,B) #Your code goes here)\n",
    "print('AB^T', np.matmul(A,B.transpose()) #Your code goes here)\n",
    "print('BA^T', np.matmul(B, A.transpose()) #Your code goes here)"
   ]
  },
  {
   "cell_type": "markdown",
   "metadata": {},
   "source": [
    "#### 2. Describe what happens when you take the transpose of a matrix."
   ]
  },
  {
   "cell_type": "markdown",
   "metadata": {},
   "source": [
    "Describe the transpose of a matrix here.\n",
    "The orientation of the matrix is swapped; rows for columns and columns for rows."
   ]
  },
  {
   "cell_type": "markdown",
   "metadata": {},
   "source": [
    "### Systems of Equations\n",
    "If you recall from your earlier life as a algebra student:\n",
    "\n",
    "$2x +10 = 18$ has a unique solution; one variable, one equation, one solution\n",
    "\n",
    "Similarly, two variables with two equations has one solution*   \n",
    "$x+y=4$  \n",
    "$2x+2y=10$\n",
    "\n",
    "However, if we allow 2 variables with only 1 equation, we can have infinite solutions.\n",
    "$x+y=4$\n",
    "\n",
    "*(An inconsistent system will have no solution and a system where the second equation is a multiple of the first will have infinite solutions)"
   ]
  },
  {
   "cell_type": "markdown",
   "metadata": {},
   "source": [
    "### 3. Representing Data as Matrices"
   ]
  },
  {
   "cell_type": "markdown",
   "metadata": {},
   "source": [
    "#### A. Write a Matrix to represent this system:   \n",
    "$x+y=4$  \n",
    "$2x+2y=10$"
   ]
  },
  {
   "cell_type": "code",
   "execution_count": 9,
   "metadata": {},
   "outputs": [
    {
     "data": {
      "text/plain": [
       "array([[ 1,  1,  4],\n",
       "       [ 2,  2, 10]])"
      ]
     },
     "execution_count": 9,
     "metadata": {},
     "output_type": "execute_result"
    }
   ],
   "source": [
    "#Your matrix goes here\n",
    "A = np.array([[1,1,4],\n",
    "     [2,2,10]\n",
    "    ])\n",
    "A"
   ]
  },
  {
   "cell_type": "markdown",
   "metadata": {},
   "source": [
    "#### B. Multiply your matrix by 3. What is the resulting system of equations? "
   ]
  },
  {
   "cell_type": "code",
   "execution_count": 10,
   "metadata": {},
   "outputs": [
    {
     "data": {
      "text/plain": [
       "array([[ 3,  3, 12],\n",
       "       [ 6,  6, 30]])"
      ]
     },
     "execution_count": 10,
     "metadata": {},
     "output_type": "execute_result"
    }
   ],
   "source": [
    "#Multiplying Matrix Here\n",
    "3*A"
   ]
  },
  {
   "cell_type": "markdown",
   "metadata": {},
   "source": [
    "## Write the resulting system here  \n",
    "$3x+3y=12$  \n",
    "$6x+6y=30$"
   ]
  },
  {
   "cell_type": "markdown",
   "metadata": {},
   "source": [
    "### The Identity Matrix\n",
    "The identity Matrix has ones running along the diagonal, and zeros everywhere else.\n",
    "You can create an identity matrix of any given size by calling the built in numpy method:\n",
    "numpy.identity(n) where n is the dimension of the desired matrix."
   ]
  },
  {
   "cell_type": "code",
   "execution_count": 52,
   "metadata": {},
   "outputs": [
    {
     "data": {
      "text/plain": [
       "array([[1., 0., 0., 0., 0.],\n",
       "       [0., 1., 0., 0., 0.],\n",
       "       [0., 0., 1., 0., 0.],\n",
       "       [0., 0., 0., 1., 0.],\n",
       "       [0., 0., 0., 0., 1.]])"
      ]
     },
     "execution_count": 52,
     "metadata": {},
     "output_type": "execute_result"
    }
   ],
   "source": [
    "np.identity(5)"
   ]
  },
  {
   "cell_type": "markdown",
   "metadata": {},
   "source": [
    "### 4. Multiply a matrix by the identity matrix. What do you notice? Explain why this happens."
   ]
  },
  {
   "cell_type": "code",
   "execution_count": 12,
   "metadata": {},
   "outputs": [
    {
     "name": "stdout",
     "output_type": "stream",
     "text": [
      "[[ 1  1  4]\n",
      " [ 2  2 10]]\n",
      "[[ 1.  1.  4.]\n",
      " [ 2.  2. 10.]]\n"
     ]
    }
   ],
   "source": [
    "#Multiply a matrix by the identity matrix here.\n",
    "print(A)\n",
    "print(np.matmul(A, np.identity(3)))"
   ]
  },
  {
   "cell_type": "markdown",
   "metadata": {},
   "source": [
    "#Write your observations and explanation here.\n",
    "Multiplying by the identity matrix does not change the value of a matrix."
   ]
  },
  {
   "cell_type": "code",
   "execution_count": null,
   "metadata": {},
   "outputs": [],
   "source": []
  }
 ],
 "metadata": {
  "kernelspec": {
   "display_name": "Python 3",
   "language": "python",
   "name": "python3"
  },
  "language_info": {
   "codemirror_mode": {
    "name": "ipython",
    "version": 3
   },
   "file_extension": ".py",
   "mimetype": "text/x-python",
   "name": "python",
   "nbconvert_exporter": "python",
   "pygments_lexer": "ipython3",
   "version": "3.6.5"
  }
 },
 "nbformat": 4,
 "nbformat_minor": 2
}
