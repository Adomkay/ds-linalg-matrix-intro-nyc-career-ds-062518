{
 "cells": [
  {
   "cell_type": "markdown",
   "metadata": {},
   "source": [
    "![](./images/Matrix.svg.png)"
   ]
  },
  {
   "cell_type": "markdown",
   "metadata": {},
   "source": [
    "### Examples of Common Matrix Operation"
   ]
  },
  {
   "cell_type": "code",
   "execution_count": 6,
   "metadata": {},
   "outputs": [
    {
     "name": "stdout",
     "output_type": "stream",
     "text": [
      "A: [[7 8 4 3]\n",
      " [4 1 1 6]\n",
      " [0 5 2 6]]\n",
      "\n",
      "\n",
      "B: [[6 6 7 9]\n",
      " [5 8 6 3]\n",
      " [9 5 5 3]]\n",
      "\n",
      "\n",
      "\n",
      "x: [-0.62973874  0.48290411 -0.03709649 -0.35250661]\n",
      "\n",
      "\n",
      "\n",
      "y: [-2.42623614 -1.36089824  1.36234004  0.56839141  0.24492674]\n"
     ]
    }
   ],
   "source": [
    "A = np.array([np.random.randint(0,10) for i in range(12)]).reshape((3,4))\n",
    "B = np.array([np.random.randint(0,10) for i in range(12)]).reshape((3,4))\n",
    "\n",
    "x = np.random.randn(4)\n",
    "y = np.random.randn(5)\n",
    "\n",
    "print('A: {}'.format(A))\n",
    "print('\\n')\n",
    "print('B: {}'.format(B))\n",
    "\n",
    "print('\\n\\n')\n",
    "print('x: {}'.format(x))\n",
    "print('\\n\\n')\n",
    "print('y: {}'.format(y))"
   ]
  },
  {
   "cell_type": "code",
   "execution_count": 7,
   "metadata": {},
   "outputs": [
    {
     "name": "stdout",
     "output_type": "stream",
     "text": [
      "A+B:\n",
      " [[13 14 11 12]\n",
      " [ 9  9  7  9]\n",
      " [ 9 10  7  9]] \n",
      "\n",
      "\n",
      "A-B:\n",
      " [[ 1  2 -3 -6]\n",
      " [-1 -7 -5  3]\n",
      " [-9  0 -3  3]] \n",
      "\n",
      "\n",
      "A*B:\n",
      " [[42 48 28 27]\n",
      " [20  8  6 18]\n",
      " [ 0 25 10 18]] \n",
      "\n",
      "\n",
      "A/B:\n",
      " [[1.16666667 1.33333333 0.57142857 0.33333333]\n",
      " [0.8        0.125      0.16666667 2.        ]\n",
      " [0.         1.         0.4        2.        ]] \n",
      "\n",
      "\n",
      "A*x:\n",
      " [[-4.40817115  3.86323289 -0.14838595 -1.05751982]\n",
      " [-2.51895494  0.48290411 -0.03709649 -2.11503964]\n",
      " [-0.          2.41452056 -0.07419298 -2.11503964]] \n",
      "\n",
      "\n",
      "A.T:\n",
      " [[7 4 0]\n",
      " [8 1 5]\n",
      " [4 1 2]\n",
      " [3 6 6]] \n",
      "\n",
      "\n",
      "x.T:\n",
      " [-0.62973874  0.48290411 -0.03709649 -0.35250661] \n",
      "\n",
      "\n"
     ]
    }
   ],
   "source": [
    "print('A+B:\\n', A+B, '\\n\\n') # matrix addition\n",
    "print('A-B:\\n', A-B, '\\n\\n') # matrix subtraction\n",
    "print('A*B:\\n', A*B, '\\n\\n') # ELEMENTWISE multiplication\n",
    "print('A/B:\\n', A/B, '\\n\\n') # ELEMENTWISE division\n",
    "\n",
    "\n",
    "print('A*x:\\n', A*x, '\\n\\n') # multiply columns by x\n",
    "print('A.T:\\n', A.T, '\\n\\n') # transpose (just changes row/column ordering)\n",
    "print('x.T:\\n', x.T, '\\n\\n') # does nothing (can't transpose 1D array)"
   ]
  },
  {
   "cell_type": "markdown",
   "metadata": {},
   "source": [
    "### Systems of Equations\n",
    "If you recall from your earlier life as a algebra student:\n",
    "\n",
    "$2x +10 = 18$ has a unique solution; one variable, one equation, one solution\n",
    "\n",
    "Similarly, two variables with two equations has one solution*   \n",
    "$x+y=4$  \n",
    "$2x+2y=10$\n",
    "\n",
    "However, if we allow 2 variables with only 1 equation, we can have infinite solutions.\n",
    "$x+y=4$\n",
    "\n",
    "*(An inconsistent system will have no solution and a system where the second equation is a multiple of the first will have infinite solutions)"
   ]
  },
  {
   "cell_type": "markdown",
   "metadata": {},
   "source": [
    "### Representing Data as Matrices"
   ]
  },
  {
   "cell_type": "markdown",
   "metadata": {},
   "source": [
    "1. Write a Matrix to represent this system:   \n",
    "$x+y=4$  \n",
    "$2x+2y=10$"
   ]
  },
  {
   "cell_type": "markdown",
   "metadata": {},
   "source": [
    "2. Multiply your matrix by 3. What is the resulting system of equations? "
   ]
  },
  {
   "cell_type": "markdown",
   "metadata": {},
   "source": [
    "3. Solve both your original Matrix and the new Matrix that was the orginal, multiplied by 3."
   ]
  },
  {
   "cell_type": "code",
   "execution_count": null,
   "metadata": {},
   "outputs": [],
   "source": []
  }
 ],
 "metadata": {
  "kernelspec": {
   "display_name": "Python 3",
   "language": "python",
   "name": "python3"
  },
  "language_info": {
   "codemirror_mode": {
    "name": "ipython",
    "version": 3
   },
   "file_extension": ".py",
   "mimetype": "text/x-python",
   "name": "python",
   "nbconvert_exporter": "python",
   "pygments_lexer": "ipython3",
   "version": "3.6.5"
  }
 },
 "nbformat": 4,
 "nbformat_minor": 2
}
