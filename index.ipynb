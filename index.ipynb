{
 "cells": [
  {
   "cell_type": "markdown",
   "metadata": {},
   "source": [
    "![](./images/Matrix.svg.png)"
   ]
  },
  {
   "cell_type": "markdown",
   "metadata": {},
   "source": [
    "### Numpy and Matrices\n",
    "The numpy package will provide you a great toolbox of optimized mathematical operations including the numpy array, the most convenient way to store vector and matrix data for computation. Here, we'll look at some basic operations in numpy."
   ]
  },
  {
   "cell_type": "code",
   "execution_count": 46,
   "metadata": {},
   "outputs": [
    {
     "name": "stdout",
     "output_type": "stream",
     "text": [
      "A: [[2 8 4 8]\n",
      " [6 6 9 5]\n",
      " [0 8 2 8]]\n",
      "\n",
      "\n",
      "B: [[0 6 7 8]\n",
      " [8 1 9 4]\n",
      " [5 2 4 4]]\n",
      "\n",
      "\n",
      "\n",
      "x: [-0.35800865 -0.4791102  -0.26180063  0.35003173]\n",
      "\n",
      "\n",
      "\n",
      "y: [-0.29653411 -0.66575779 -0.46246297  0.2078026   2.11497751]\n"
     ]
    }
   ],
   "source": [
    "A = np.array([np.random.randint(0,10) for i in range(12)]).reshape((3,4))\n",
    "B = np.array([np.random.randint(0,10) for i in range(12)]).reshape((3,4))\n",
    "\n",
    "x = np.random.randn(4)\n",
    "y = np.random.randn(5)\n",
    "\n",
    "print('A: {}'.format(A))\n",
    "print('\\n')\n",
    "print('B: {}'.format(B))\n",
    "\n",
    "print('\\n\\n')\n",
    "print('x: {}'.format(x))\n",
    "print('\\n\\n')\n",
    "print('y: {}'.format(y))"
   ]
  },
  {
   "cell_type": "code",
   "execution_count": 48,
   "metadata": {},
   "outputs": [
    {
     "name": "stdout",
     "output_type": "stream",
     "text": [
      "A+B:\n",
      " [[ 2 14 11 16]\n",
      " [14  7 18  9]\n",
      " [ 5 10  6 12]] \n",
      "\n",
      "\n",
      "A-B:\n",
      " [[ 2  2 -3  0]\n",
      " [-2  5  0  1]\n",
      " [-5  6 -2  4]] \n",
      "\n",
      "\n",
      "Be careful! This is not standarad matrix multiplication!\n",
      "A*B:\n",
      " [[ 0 48 28 64]\n",
      " [48  6 81 20]\n",
      " [ 0 16  8 32]] \n",
      "\n",
      "\n",
      "A/B:\n",
      " [[       inf 1.33333333 0.57142857 1.        ]\n",
      " [0.75       6.         1.         1.25      ]\n",
      " [0.         4.         0.5        2.        ]] \n",
      "\n",
      "\n",
      "A*x:\n",
      " [[-0.7160173  -3.83288164 -1.04720252  2.80025382]\n",
      " [-2.14805189 -2.87466123 -2.35620566  1.75015864]\n",
      " [-0.         -3.83288164 -0.52360126  2.80025382]] \n",
      "\n",
      "\n",
      "A.T:\n",
      " [[2 6 0]\n",
      " [8 6 8]\n",
      " [4 9 2]\n",
      " [8 5 8]] \n",
      "\n",
      "\n",
      "x.T:\n",
      " [-0.35800865 -0.4791102  -0.26180063  0.35003173] \n",
      "\n",
      "\n"
     ]
    },
    {
     "name": "stderr",
     "output_type": "stream",
     "text": [
      "/Users/matthew.mitchell/anaconda3/lib/python3.6/site-packages/ipykernel_launcher.py:5: RuntimeWarning: divide by zero encountered in true_divide\n",
      "  \"\"\"\n"
     ]
    }
   ],
   "source": [
    "print('A+B:\\n', A+B, '\\n\\n') # matrix addition\n",
    "print('A-B:\\n', A-B, '\\n\\n') # matrix subtraction\n",
    "print('Be careful! This is not standarad matrix multiplication!')\n",
    "print('A*B:\\n', A*B, '\\n\\n') # ELEMENTWISE multiplication\n",
    "print('A/B:\\n', A/B, '\\n\\n') # ELEMENTWISE division\n",
    "\n",
    "\n",
    "print('A*x:\\n', A*x, '\\n\\n') # multiply columns by x\n",
    "print('A.T:\\n', A.T, '\\n\\n') # transpose (just changes row/column ordering)\n",
    "print('x.T:\\n', x.T, '\\n\\n') # does nothing (can't transpose 1D array)"
   ]
  },
  {
   "cell_type": "markdown",
   "metadata": {},
   "source": [
    "### 1. Generating Test Data\n",
    "Generate two matrices of random data, A and B.  \n",
    "Make matrix A a 3x4 matrix, and make B 4x4 matrix. Print both.\n",
    "\n",
    "Calculate and print the following:\n",
    "* $A^T$\n",
    "* $B^T$\n",
    "* AB\n",
    "* $AB^T$\n",
    "* $BA^T$"
   ]
  },
  {
   "cell_type": "code",
   "execution_count": 35,
   "metadata": {},
   "outputs": [],
   "source": [
    "A = np.array([np.random.randint(0,10) for i in range(12)]).reshape((3,4))\n",
    "B = np.array([np.random.randint(0,10) for i in range(16)]).reshape((4,4))"
   ]
  },
  {
   "cell_type": "code",
   "execution_count": 39,
   "metadata": {},
   "outputs": [
    {
     "name": "stdout",
     "output_type": "stream",
     "text": [
      "A : [[1 4 1 2]\n",
      " [0 2 8 6]\n",
      " [5 5 7 1]]\n",
      "B : [[0 8 7 5]\n",
      " [3 5 7 2]\n",
      " [7 2 6 0]\n",
      " [6 5 8 2]]\n"
     ]
    }
   ],
   "source": [
    "print('A :', A)\n",
    "print('B :', B)"
   ]
  },
  {
   "cell_type": "code",
   "execution_count": 43,
   "metadata": {},
   "outputs": [
    {
     "data": {
      "text/plain": [
       "array([[0, 3, 7, 6],\n",
       "       [8, 5, 2, 5],\n",
       "       [7, 7, 6, 8],\n",
       "       [5, 2, 0, 2]])"
      ]
     },
     "execution_count": 43,
     "metadata": {},
     "output_type": "execute_result"
    }
   ],
   "source": [
    "B.transpose()"
   ]
  },
  {
   "cell_type": "code",
   "execution_count": 44,
   "metadata": {},
   "outputs": [
    {
     "name": "stdout",
     "output_type": "stream",
     "text": [
      "AB: [[ 31  40  57  17]\n",
      " [ 98  56 110  16]\n",
      " [ 70  84 120  37]]\n",
      "AB^T [[ 49  34  21  38]\n",
      " [102  78  52  86]\n",
      " [ 94  91  87 113]]\n",
      "BA^T [[ 49 102  94]\n",
      " [ 34  78  91]\n",
      " [ 21  52  87]\n",
      " [ 38  86 113]]\n"
     ]
    }
   ],
   "source": [
    "print('AB:', np.matmul(A,B))\n",
    "print('AB^T', np.matmul(A,B.transpose()))\n",
    "print('BA^T', np.matmul(B, A.transpose()))"
   ]
  },
  {
   "cell_type": "markdown",
   "metadata": {},
   "source": [
    "#### 2. Describe what happens when you take the transpose of a matrix."
   ]
  },
  {
   "cell_type": "code",
   "execution_count": null,
   "metadata": {},
   "outputs": [],
   "source": [
    "#Describe the transpose of a matrix here."
   ]
  },
  {
   "cell_type": "markdown",
   "metadata": {},
   "source": [
    "### Systems of Equations\n",
    "If you recall from your earlier life as a algebra student:\n",
    "\n",
    "$2x +10 = 18$ has a unique solution; one variable, one equation, one solution\n",
    "\n",
    "Similarly, two variables with two equations has one solution*   \n",
    "$x+y=4$  \n",
    "$2x+2y=10$\n",
    "\n",
    "However, if we allow 2 variables with only 1 equation, we can have infinite solutions.\n",
    "$x+y=4$\n",
    "\n",
    "*(An inconsistent system will have no solution and a system where the second equation is a multiple of the first will have infinite solutions)"
   ]
  },
  {
   "cell_type": "markdown",
   "metadata": {},
   "source": [
    "### 3. Representing Data as Matrices"
   ]
  },
  {
   "cell_type": "markdown",
   "metadata": {},
   "source": [
    "#### A. Write a Matrix to represent this system:   \n",
    "$x+y=4$  \n",
    "$2x+2y=10$"
   ]
  },
  {
   "cell_type": "code",
   "execution_count": null,
   "metadata": {},
   "outputs": [],
   "source": [
    "#Your matrix goes here"
   ]
  },
  {
   "cell_type": "markdown",
   "metadata": {},
   "source": [
    "#### B. Multiply your matrix by 3. What is the resulting system of equations? "
   ]
  },
  {
   "cell_type": "code",
   "execution_count": null,
   "metadata": {},
   "outputs": [],
   "source": [
    "#Multiplying Matrix Here"
   ]
  },
  {
   "cell_type": "code",
   "execution_count": null,
   "metadata": {},
   "outputs": [],
   "source": [
    "#Write the resulting system here"
   ]
  },
  {
   "cell_type": "markdown",
   "metadata": {},
   "source": [
    "#### C. Solve both your original Matrix and the new Matrix that was the orginal, multiplied by 3. What do you notice?"
   ]
  },
  {
   "cell_type": "code",
   "execution_count": null,
   "metadata": {},
   "outputs": [],
   "source": []
  },
  {
   "cell_type": "markdown",
   "metadata": {},
   "source": [
    "### The Identity Matrix\n",
    "The identity Matrix has ones running along the diagonal, and zeros everywhere else.\n",
    "You can create an identity matrix of any given size by calling the built in numpy method:\n",
    "numpy.identity(n) where n is the dimension of the desired matrix."
   ]
  },
  {
   "cell_type": "code",
   "execution_count": 52,
   "metadata": {},
   "outputs": [
    {
     "data": {
      "text/plain": [
       "array([[1., 0., 0., 0., 0.],\n",
       "       [0., 1., 0., 0., 0.],\n",
       "       [0., 0., 1., 0., 0.],\n",
       "       [0., 0., 0., 1., 0.],\n",
       "       [0., 0., 0., 0., 1.]])"
      ]
     },
     "execution_count": 52,
     "metadata": {},
     "output_type": "execute_result"
    }
   ],
   "source": [
    "np.identity(5)"
   ]
  },
  {
   "cell_type": "markdown",
   "metadata": {},
   "source": [
    "### 4. Multiply a matrix by the identity matrix. What do you notice? Explain why this happens."
   ]
  },
  {
   "cell_type": "code",
   "execution_count": null,
   "metadata": {},
   "outputs": [],
   "source": [
    "#Multiply a matrix by the identity matrix here."
   ]
  },
  {
   "cell_type": "code",
   "execution_count": null,
   "metadata": {},
   "outputs": [],
   "source": [
    "#Write your observations and explanation here."
   ]
  }
 ],
 "metadata": {
  "kernelspec": {
   "display_name": "Python 3",
   "language": "python",
   "name": "python3"
  },
  "language_info": {
   "codemirror_mode": {
    "name": "ipython",
    "version": 3
   },
   "file_extension": ".py",
   "mimetype": "text/x-python",
   "name": "python",
   "nbconvert_exporter": "python",
   "pygments_lexer": "ipython3",
   "version": "3.6.5"
  }
 },
 "nbformat": 4,
 "nbformat_minor": 2
}
