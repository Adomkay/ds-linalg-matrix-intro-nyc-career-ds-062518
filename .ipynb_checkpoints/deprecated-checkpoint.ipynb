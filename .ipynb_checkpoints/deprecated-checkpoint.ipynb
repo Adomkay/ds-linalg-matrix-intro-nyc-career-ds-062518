{
 "cells": [
  {
   "cell_type": "markdown",
   "metadata": {},
   "source": [
    "![](./images/Matrix.svg.png)"
   ]
  },
  {
   "cell_type": "markdown",
   "metadata": {},
   "source": [
    "### Numpy and Matrices\n",
    "The numpy package will provide you a great toolbox of optimized mathematical operations including the numpy array, the most convenient way to store vector and matrix data for computation. Here, we'll look at some basic operations in numpy."
   ]
  },
  {
   "cell_type": "code",
   "execution_count": 6,
   "metadata": {},
   "outputs": [
    {
     "name": "stdout",
     "output_type": "stream",
     "text": [
      "A: [[7 8 4 3]\n",
      " [4 1 1 6]\n",
      " [0 5 2 6]]\n",
      "\n",
      "\n",
      "B: [[6 6 7 9]\n",
      " [5 8 6 3]\n",
      " [9 5 5 3]]\n",
      "\n",
      "\n",
      "\n",
      "x: [-0.62973874  0.48290411 -0.03709649 -0.35250661]\n",
      "\n",
      "\n",
      "\n",
      "y: [-2.42623614 -1.36089824  1.36234004  0.56839141  0.24492674]\n"
     ]
    }
   ],
   "source": [
    "A = np.array([np.random.randint(0,10) for i in range(12)]).reshape((3,4))\n",
    "B = np.array([np.random.randint(0,10) for i in range(12)]).reshape((3,4))\n",
    "\n",
    "x = np.random.randn(4)\n",
    "y = np.random.randn(5)\n",
    "\n",
    "print('A: {}'.format(A))\n",
    "print('\\n')\n",
    "print('B: {}'.format(B))\n",
    "\n",
    "print('\\n\\n')\n",
    "print('x: {}'.format(x))\n",
    "print('\\n\\n')\n",
    "print('y: {}'.format(y))"
   ]
  },
  {
   "cell_type": "code",
   "execution_count": 7,
   "metadata": {},
   "outputs": [
    {
     "name": "stdout",
     "output_type": "stream",
     "text": [
      "A+B:\n",
      " [[13 14 11 12]\n",
      " [ 9  9  7  9]\n",
      " [ 9 10  7  9]] \n",
      "\n",
      "\n",
      "A-B:\n",
      " [[ 1  2 -3 -6]\n",
      " [-1 -7 -5  3]\n",
      " [-9  0 -3  3]] \n",
      "\n",
      "\n",
      "A*B:\n",
      " [[42 48 28 27]\n",
      " [20  8  6 18]\n",
      " [ 0 25 10 18]] \n",
      "\n",
      "\n",
      "A/B:\n",
      " [[1.16666667 1.33333333 0.57142857 0.33333333]\n",
      " [0.8        0.125      0.16666667 2.        ]\n",
      " [0.         1.         0.4        2.        ]] \n",
      "\n",
      "\n",
      "A*x:\n",
      " [[-4.40817115  3.86323289 -0.14838595 -1.05751982]\n",
      " [-2.51895494  0.48290411 -0.03709649 -2.11503964]\n",
      " [-0.          2.41452056 -0.07419298 -2.11503964]] \n",
      "\n",
      "\n",
      "A.T:\n",
      " [[7 4 0]\n",
      " [8 1 5]\n",
      " [4 1 2]\n",
      " [3 6 6]] \n",
      "\n",
      "\n",
      "x.T:\n",
      " [-0.62973874  0.48290411 -0.03709649 -0.35250661] \n",
      "\n",
      "\n"
     ]
    }
   ],
   "source": [
    "print('A+B:\\n', A+B, '\\n\\n') # matrix addition\n",
    "print('A-B:\\n', A-B, '\\n\\n') # matrix subtraction\n",
    "print('A*B:\\n', A*B, '\\n\\n') # ELEMENTWISE multiplication\n",
    "print('A/B:\\n', A/B, '\\n\\n') # ELEMENTWISE division\n",
    "\n",
    "\n",
    "print('A*x:\\n', A*x, '\\n\\n') # multiply columns by x\n",
    "print('A.T:\\n', A.T, '\\n\\n') # transpose (just changes row/column ordering)\n",
    "print('x.T:\\n', x.T, '\\n\\n') # does nothing (can't transpose 1D array)"
   ]
  },
  {
   "cell_type": "markdown",
   "metadata": {},
   "source": [
    "### 1. Generating Test Data\n",
    "Generate two matrices of random data, A and B. Make matrix A a 3x4 matrix, and make B 4x "
   ]
  },
  {
   "cell_type": "markdown",
   "metadata": {},
   "source": [
    "### Polynomial Functions\n",
    "Soon, we're going to expand our simple linear regression into the more generalized linear regression involving multiple variables. Instead of looking at the Gross Domestic Sales of a movie in terms of its budget alone, we'll consider more variables such as ratings and reviews to improve our predictions. \n",
    "\n",
    "When doing this, we will have a matrix of data where each column is a specific feature such as the budget, or the imdb review score, while each row will be an observance, one of the movies in our dataset.\n",
    "\n",
    "$x_1\\bullet w_1 + x_2\\bullet w_2 + x_3\\bullet w_3 + ... = y$"
   ]
  },
  {
   "cell_type": "code",
   "execution_count": 11,
   "metadata": {},
   "outputs": [
    {
     "data": {
      "text/plain": [
       "'/Users/matthew.mitchell/Documents/Learn_CO/Data_Science_Immersive/Mod3/python_linear_algebra_matrices'"
      ]
     },
     "execution_count": 11,
     "metadata": {},
     "output_type": "execute_result"
    }
   ],
   "source": [
    "pwd"
   ]
  },
  {
   "cell_type": "code",
   "execution_count": 12,
   "metadata": {},
   "outputs": [
    {
     "name": "stdout",
     "output_type": "stream",
     "text": [
      "/Users/matthew.mitchell/Documents/Learn_CO/Data_Science_Immersive/Mod3/python_linear_regression_lab\n"
     ]
    }
   ],
   "source": [
    "cd '/Users/matthew.mitchell/Documents/Learn_CO/Data_Science_Immersive/Mod3/python_linear_regression_lab'"
   ]
  },
  {
   "cell_type": "code",
   "execution_count": 25,
   "metadata": {},
   "outputs": [
    {
     "data": {
      "text/html": [
       "<div>\n",
       "<style scoped>\n",
       "    .dataframe tbody tr th:only-of-type {\n",
       "        vertical-align: middle;\n",
       "    }\n",
       "\n",
       "    .dataframe tbody tr th {\n",
       "        vertical-align: top;\n",
       "    }\n",
       "\n",
       "    .dataframe thead th {\n",
       "        text-align: right;\n",
       "    }\n",
       "</style>\n",
       "<table border=\"1\" class=\"dataframe\">\n",
       "  <thead>\n",
       "    <tr style=\"text-align: right;\">\n",
       "      <th></th>\n",
       "      <th>budget</th>\n",
       "      <th>imdbRating</th>\n",
       "      <th>Metascore</th>\n",
       "      <th>imdbVotes</th>\n",
       "    </tr>\n",
       "  </thead>\n",
       "  <tbody>\n",
       "    <tr>\n",
       "      <th>0</th>\n",
       "      <td>13000000</td>\n",
       "      <td>6.8</td>\n",
       "      <td>48</td>\n",
       "      <td>206513</td>\n",
       "    </tr>\n",
       "    <tr>\n",
       "      <th>1</th>\n",
       "      <td>45658735</td>\n",
       "      <td>0.0</td>\n",
       "      <td>0</td>\n",
       "      <td>0</td>\n",
       "    </tr>\n",
       "    <tr>\n",
       "      <th>2</th>\n",
       "      <td>20000000</td>\n",
       "      <td>8.1</td>\n",
       "      <td>96</td>\n",
       "      <td>537525</td>\n",
       "    </tr>\n",
       "    <tr>\n",
       "      <th>3</th>\n",
       "      <td>61000000</td>\n",
       "      <td>6.7</td>\n",
       "      <td>55</td>\n",
       "      <td>173726</td>\n",
       "    </tr>\n",
       "    <tr>\n",
       "      <th>4</th>\n",
       "      <td>40000000</td>\n",
       "      <td>7.5</td>\n",
       "      <td>62</td>\n",
       "      <td>74170</td>\n",
       "    </tr>\n",
       "  </tbody>\n",
       "</table>\n",
       "</div>"
      ],
      "text/plain": [
       "     budget  imdbRating  Metascore  imdbVotes\n",
       "0  13000000         6.8         48     206513\n",
       "1  45658735         0.0          0          0\n",
       "2  20000000         8.1         96     537525\n",
       "3  61000000         6.7         55     173726\n",
       "4  40000000         7.5         62      74170"
      ]
     },
     "execution_count": 25,
     "metadata": {},
     "output_type": "execute_result"
    }
   ],
   "source": [
    "import pandas as pd\n",
    "x = pd.read_excel('movie_data_detailed_with_ols.xlsx')\n",
    "x = x[['budget', 'imdbRating','Metascore', 'imdbVotes']]\n",
    "x.head()"
   ]
  },
  {
   "cell_type": "code",
   "execution_count": 26,
   "metadata": {},
   "outputs": [
    {
     "data": {
      "text/plain": [
       "array([[1.3000000e+07, 6.8000000e+00, 4.8000000e+01, 2.0651300e+05],\n",
       "       [4.5658735e+07, 0.0000000e+00, 0.0000000e+00, 0.0000000e+00],\n",
       "       [2.0000000e+07, 8.1000000e+00, 9.6000000e+01, 5.3752500e+05],\n",
       "       [6.1000000e+07, 6.7000000e+00, 5.5000000e+01, 1.7372600e+05],\n",
       "       [4.0000000e+07, 7.5000000e+00, 6.2000000e+01, 7.4170000e+04],\n",
       "       [2.2500000e+08, 6.3000000e+00, 2.8000000e+01, 1.2876600e+05],\n",
       "       [9.2000000e+07, 5.3000000e+00, 2.8000000e+01, 1.8058500e+05],\n",
       "       [1.2000000e+07, 7.8000000e+00, 5.5000000e+01, 2.4008700e+05],\n",
       "       [1.3000000e+07, 5.7000000e+00, 4.8000000e+01, 3.0576000e+04],\n",
       "       [1.3000000e+08, 4.9000000e+00, 3.3000000e+01, 1.7436500e+05],\n",
       "       [4.0000000e+07, 7.3000000e+00, 9.0000000e+01, 3.9839000e+05],\n",
       "       [2.5000000e+07, 7.2000000e+00, 5.8000000e+01, 7.5884000e+04],\n",
       "       [5.0000000e+07, 6.2000000e+00, 5.2000000e+01, 7.6001000e+04],\n",
       "       [1.8000000e+07, 7.3000000e+00, 7.8000000e+01, 1.7098600e+05],\n",
       "       [5.5000000e+07, 7.8000000e+00, 8.3000000e+01, 3.6824400e+05],\n",
       "       [3.0000000e+07, 7.4000000e+00, 8.5000000e+01, 1.4232800e+05],\n",
       "       [7.8000000e+07, 6.4000000e+00, 5.9000000e+01, 7.5138000e+04],\n",
       "       [7.6000000e+07, 7.4000000e+00, 6.2000000e+01, 3.2466400e+05],\n",
       "       [5.5000000e+06, 6.6000000e+00, 6.6000000e+01, 2.0894800e+05],\n",
       "       [1.2000000e+08, 6.6000000e+00, 6.1000000e+01, 3.7813100e+05],\n",
       "       [1.1000000e+08, 0.0000000e+00, 0.0000000e+00, 0.0000000e+00],\n",
       "       [1.0000000e+08, 6.7000000e+00, 5.2000000e+01, 9.2389000e+04],\n",
       "       [4.0000000e+07, 5.9000000e+00, 3.5000000e+01, 2.2430000e+04],\n",
       "       [7.0000000e+07, 6.7000000e+00, 4.9000000e+01, 1.9876700e+05],\n",
       "       [1.7000000e+07, 6.5000000e+00, 5.7000000e+01, 1.3994000e+05],\n",
       "       [1.6000000e+08, 0.0000000e+00, 0.0000000e+00, 0.0000000e+00],\n",
       "       [1.5000000e+08, 7.5000000e+00, 7.4000000e+01, 4.8355500e+05],\n",
       "       [1.4000000e+08, 5.8000000e+00, 4.1000000e+01, 1.5821000e+05],\n",
       "       [6.0000000e+07, 6.7000000e+00, 4.0000000e+01, 1.8884600e+05],\n",
       "       [3.0000000e+07, 7.1000000e+00, 0.0000000e+00, 0.0000000e+00]])"
      ]
     },
     "execution_count": 26,
     "metadata": {},
     "output_type": "execute_result"
    }
   ],
   "source": [
    "x = np.array(x)\n",
    "x"
   ]
  },
  {
   "cell_type": "markdown",
   "metadata": {},
   "source": [
    "### 1. Write a function that predicts a vector of model predictions $\\hat{y}$ given a matrix of data x, and a vector of coefficient weights w.   \n",
    "Mathematically:   \n",
    "$x_1\\bullet w_1 + x_2\\bullet w_2 + x_3\\bullet w_3 + ... = y$"
   ]
  },
  {
   "cell_type": "code",
   "execution_count": null,
   "metadata": {},
   "outputs": [],
   "source": [
    "def poly_regress_predict(x,w):\n",
    "    return y_hat"
   ]
  },
  {
   "cell_type": "markdown",
   "metadata": {},
   "source": [
    "### 2. Systems of Equations\n",
    "If you recall from your earlier life as a algebra student:\n",
    "\n",
    "$2x +10 = 18$ has a unique solution; one variable, one equation, one solution\n",
    "\n",
    "Similarly, two variables with two equations has one solution*   \n",
    "$x+y=4$  \n",
    "$2x+2y=10$\n",
    "\n",
    "However, if we allow 2 variables with only 1 equation, we can have infinite solutions.\n",
    "$x+y=4$\n",
    "\n",
    "*(An inconsistent system will have no solution and a system where the second equation is a multiple of the first will have infinite solutions)"
   ]
  },
  {
   "cell_type": "markdown",
   "metadata": {},
   "source": [
    "### Representing Data as Matrices"
   ]
  },
  {
   "cell_type": "markdown",
   "metadata": {},
   "source": [
    "1. Write a Matrix to represent this system:   \n",
    "$x+y=4$  \n",
    "$2x+2y=10$"
   ]
  },
  {
   "cell_type": "markdown",
   "metadata": {},
   "source": [
    "2. Multiply your matrix by 3. What is the resulting system of equations? "
   ]
  },
  {
   "cell_type": "markdown",
   "metadata": {},
   "source": [
    "3. Solve both your original Matrix and the new Matrix that was the orginal, multiplied by 3."
   ]
  },
  {
   "cell_type": "code",
   "execution_count": null,
   "metadata": {},
   "outputs": [],
   "source": []
  }
 ],
 "metadata": {
  "kernelspec": {
   "display_name": "Python 3",
   "language": "python",
   "name": "python3"
  },
  "language_info": {
   "codemirror_mode": {
    "name": "ipython",
    "version": 3
   },
   "file_extension": ".py",
   "mimetype": "text/x-python",
   "name": "python",
   "nbconvert_exporter": "python",
   "pygments_lexer": "ipython3",
   "version": "3.6.5"
  }
 },
 "nbformat": 4,
 "nbformat_minor": 2
}
